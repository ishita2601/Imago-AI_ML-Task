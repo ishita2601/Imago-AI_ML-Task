{
  "cells": [
    {
      "cell_type": "markdown",
      "metadata": {
        "id": "m3WAO8JOZ2GT"
      },
      "source": [
        "**Task for ML Intern**"
      ]
    },
    {
      "cell_type": "code",
      "execution_count": null,
      "metadata": {
        "id": "OKwfFzHKWzu7"
      },
      "outputs": [
        {
          "ename": "",
          "evalue": "",
          "output_type": "error",
          "traceback": [
            "\u001b[1;31mRunning cells with 'Python 3.10.11' requires the ipykernel package.\n",
            "\u001b[1;31mRun the following command to install 'ipykernel' into the Python environment. \n",
            "\u001b[1;31mCommand: 'c:/Users/Dhananjay/AppData/Local/Microsoft/WindowsApps/python3.10.exe -m pip install ipykernel -U --user --force-reinstall'"
          ]
        }
      ],
      "source": [
        "import pandas as pd\n",
        "import numpy as np\n",
        "import matplotlib.pyplot as plt\n",
        "import seaborn as sns\n",
        "from sklearn.preprocessing import MinMaxScaler\n",
        "from sklearn.decomposition import PCA\n",
        "from sklearn.manifold import TSNE\n",
        "from sklearn.model_selection import train_test_split, GridSearchCV, RandomizedSearchCV\n",
        "from sklearn.ensemble import RandomForestRegressor\n",
        "from xgboost import XGBRegressor\n",
        "from sklearn.metrics import mean_absolute_error, mean_squared_error, r2_score\n",
        "import tensorflow as tf\n",
        "from tensorflow.keras.models import Sequential\n",
        "from tensorflow.keras.layers import Dense, LSTM, Conv1D, Flatten, Dropout\n",
        "\n",
        "# Task 1: Data Exploration and Preprocessing\n",
        "# Load Dataset\n",
        "file_path = r\"/content/TASK-ML-INTERN.csv\"\n",
        "df = pd.read_csv(file_path)\n",
        "\n",
        "# Drop ID Column\n",
        "df = df.drop(columns=['hsi_id'])\n",
        "\n",
        "# Separate Features and Target\n",
        "X = df.iloc[:, :-1]  # Spectral bands\n",
        "y = df['vomitoxin_ppb']  # Target\n",
        "\n",
        "# Normalize Features\n",
        "scaler = MinMaxScaler()\n",
        "X_scaled = scaler.fit_transform(X)"
      ]
    },
    {
      "cell_type": "code",
      "execution_count": null,
      "metadata": {
        "colab": {
          "base_uri": "https://localhost:8080/",
          "height": 957
        },
        "id": "ubbrsyLEVwt_",
        "outputId": "3f973e25-79b9-4156-acf6-498ad78b8477"
      },
      "outputs": [],
      "source": [
        "#Task 2\n",
        "# PCA for Dimensionality Reduction\n",
        "pca = PCA(n_components=10)\n",
        "X_pca = pca.fit_transform(X_scaled)\n",
        "\n",
        "# Plot PCA Variance Explained\n",
        "plt.figure(figsize=(8, 5))\n",
        "plt.plot(range(1, 11), pca.explained_variance_ratio_.cumsum(), marker='o')\n",
        "plt.xlabel(\"Number of Principal Components\")\n",
        "plt.ylabel(\"Cumulative Explained Variance\")\n",
        "plt.title(\"PCA Explained Variance\")\n",
        "plt.grid()\n",
        "plt.show()\n",
        "\n",
        "# t-SNE for Dimensionality Reduction\n",
        "tsne = TSNE(n_components=2, random_state=42)\n",
        "X_tsne = tsne.fit_transform(X_scaled)\n",
        "\n",
        "plt.figure(figsize=(7, 5))\n",
        "sns.scatterplot(x=X_tsne[:, 0], y=X_tsne[:, 1], hue=y, palette=\"viridis\")\n",
        "plt.xlabel(\"t-SNE Component 1\")\n",
        "plt.ylabel(\"t-SNE Component 2\")\n",
        "plt.title(\"t-SNE Visualization of Spectral Data\")\n",
        "plt.show()"
      ]
    },
    {
      "cell_type": "code",
      "execution_count": 19,
      "metadata": {
        "id": "YD3Ldx7PWNma"
      },
      "outputs": [],
      "source": [
        "#Task 3\n",
        "# Train-Test Split\n",
        "X_train, X_test, y_train, y_test = train_test_split(X_pca, y, test_size=0.2, random_state=42)\n",
        "\n",
        "# Hyperparameter Optimization for Random Forest\n",
        "param_grid_rf = {\n",
        "    'n_estimators': [50, 100, 200],\n",
        "    'max_depth': [None, 10, 20],\n",
        "    'min_samples_split': [2, 5, 10]\n",
        "}\n",
        "\n",
        "rf = RandomForestRegressor(random_state=42)\n",
        "grid_search_rf = GridSearchCV(rf, param_grid_rf, cv=5, scoring='neg_mean_squared_error')\n",
        "grid_search_rf.fit(X_train, y_train)\n",
        "best_rf = grid_search_rf.best_estimator_\n",
        "\n",
        "# Hyperparameter Optimization for XGBoost\n",
        "param_grid_xgb = {\n",
        "    'n_estimators': [50, 100, 200],\n",
        "    'learning_rate': [0.01, 0.1, 0.2],\n",
        "    'max_depth': [3, 6, 10]\n",
        "}\n",
        "\n",
        "xgb = XGBRegressor(random_state=42)\n",
        "grid_search_xgb = GridSearchCV(xgb, param_grid_xgb, cv=5, scoring='neg_mean_squared_error')\n",
        "grid_search_xgb.fit(X_train, y_train)\n",
        "best_xgb = grid_search_xgb.best_estimator_"
      ]
    },
    {
      "cell_type": "code",
      "execution_count": null,
      "metadata": {
        "colab": {
          "base_uri": "https://localhost:8080/"
        },
        "id": "KJWlVlPOWZN2",
        "outputId": "bddf7513-80ce-4068-a8dd-82ee7642cbad"
      },
      "outputs": [],
      "source": [
        "#Task 4\n",
        "# Predictions\n",
        "y_pred_rf = best_rf.predict(X_test)\n",
        "y_pred_xgb = best_xgb.predict(X_test)\n",
        "\n",
        "# Evaluate Models\n",
        "def evaluate_model(y_true, y_pred, model_name):\n",
        "    mae = mean_absolute_error(y_true, y_pred)\n",
        "    rmse = np.sqrt(mean_squared_error(y_true, y_pred))\n",
        "    r2 = r2_score(y_true, y_pred)\n",
        "    return {\"Model\": model_name, \"MAE\": mae, \"RMSE\": rmse, \"R² Score\": r2}\n",
        "\n",
        "# Evaluate both models\n",
        "rf_results = evaluate_model(y_test, y_pred_rf, \"Random Forest\")\n",
        "xgb_results = evaluate_model(y_test, y_pred_xgb, \"XGBoost\")\n",
        "\n",
        "# Display results\n",
        "rf_results, xgb_results"
      ]
    },
    {
      "cell_type": "code",
      "execution_count": null,
      "metadata": {
        "colab": {
          "base_uri": "https://localhost:8080/"
        },
        "id": "xPMSEbFqWi01",
        "outputId": "1b049d2e-67e0-43c8-9c00-9dcba4e7704f"
      },
      "outputs": [],
      "source": [
        "#Task 5\n",
        "# CNN Model\n",
        "X_train_cnn = X_train.reshape(X_train.shape[0], X_train.shape[1], 1)\n",
        "X_test_cnn = X_test.reshape(X_test.shape[0], X_test.shape[1], 1)\n",
        "from tensorflow.keras.layers import Input\n",
        "\n",
        "cnn_model = Sequential([\n",
        "    Input(shape=(X_train_cnn.shape[1], 1)),  # Explicit input layer\n",
        "    Conv1D(64, kernel_size=3, activation='relu'),\n",
        "    Flatten(),\n",
        "    Dense(64, activation='relu'),\n",
        "    Dense(1)\n",
        "])\n",
        "\n",
        "cnn_model.compile(optimizer='adam', loss='mse')\n",
        "cnn_model.fit(X_train_cnn, y_train, epochs=50, batch_size=16, validation_data=(X_test_cnn, y_test))\n",
        "\n",
        "# Predictions from CNN\n",
        "y_pred_cnn = cnn_model.predict(X_test_cnn)\n",
        "\n",
        "evaluate_model(y_test, y_pred_cnn.flatten(), \"CNN\")"
      ]
    },
    {
      "cell_type": "code",
      "execution_count": null,
      "metadata": {
        "colab": {
          "base_uri": "https://localhost:8080/",
          "height": 487
        },
        "id": "TdMK9oDgWqRn",
        "outputId": "6247a19c-7cb5-4d71-e7ae-b03d4999c8c7"
      },
      "outputs": [],
      "source": [
        "#Task 6\n",
        "# Scatter Plot for Model Predictions\n",
        "plt.figure(figsize=(7, 5))\n",
        "sns.scatterplot(x=y_test, y=y_pred_rf, label=\"Random Forest\", alpha=0.5)\n",
        "sns.scatterplot(x=y_test, y=y_pred_xgb, label=\"XGBoost\", alpha=0.5)\n",
        "sns.scatterplot(x=y_test, y=y_pred_cnn.flatten(), label=\"CNN\", alpha=0.5)\n",
        "plt.xlabel(\"Actual Values\")\n",
        "plt.ylabel(\"Predicted Values\")\n",
        "plt.title(\"Actual vs Predicted Vomitoxin Levels\")\n",
        "plt.legend()\n",
        "plt.grid()\n",
        "plt.show()"
      ]
    },
    {
      "cell_type": "code",
      "execution_count": null,
      "metadata": {
        "colab": {
          "base_uri": "https://localhost:8080/"
        },
        "id": "ToamKFrMY0Vn",
        "outputId": "2beb81ff-4d1b-4b7b-c9b1-b31a59b741b6"
      },
      "outputs": [],
      "source": [
        "# Store model results in a dictionary\n",
        "model_results = {\n",
        "    \"Random Forest\": rf_results,\n",
        "    \"XGBoost\": xgb_results\n",
        "}\n",
        "\n",
        "# Find the best-performing model based on highest R² Score\n",
        "best_model = max(model_results, key=lambda x: model_results[x][\"R² Score\"])\n",
        "print(f\"Best-performing model: {best_model}\")\n",
        "print(model_results[best_model])\n"
      ]
    }
  ],
  "metadata": {
    "colab": {
      "provenance": []
    },
    "kernelspec": {
      "display_name": "Python 3",
      "name": "python3"
    },
    "language_info": {
      "name": "python",
      "version": "3.10.11"
    }
  },
  "nbformat": 4,
  "nbformat_minor": 0
}
